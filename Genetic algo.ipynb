{
 "cells": [
  {
   "cell_type": "code",
   "execution_count": null,
   "metadata": {},
   "outputs": [],
   "source": [
    "\n",
    "Algo\n",
    "\n",
    "1. Initialize Population(group of chromosomes)\n",
    "\n",
    "2. Selection of 2 Chromosomes(parents) based on FITNESS\n",
    "\n",
    "3. Crossover (between selected parent chromosomes generate 2 childs)\n",
    "\n",
    "4. Mutation (bit inversion)\n",
    "\n",
    "5. Fitness calculation\n",
    "\n",
    "6. Update Population\n",
    "\n",
    "7. repeat from step 2 until we get desired fitness\n"
   ]
  },
  {
   "cell_type": "code",
   "execution_count": null,
   "metadata": {},
   "outputs": [],
   "source": []
  },
  {
   "cell_type": "code",
   "execution_count": 1,
   "metadata": {},
   "outputs": [
    {
     "name": "stdout",
     "output_type": "stream",
     "text": [
      "Parent population [[0 1 1 0 0]\n",
      " [1 0 0 1 0]\n",
      " [0 1 0 1 1]\n",
      " [0 1 0 0 0]]\n",
      "Parent population phonotypes [12 18 11  8]\n",
      "Parent population fitness 49\n"
     ]
    },
    {
     "ename": "TypeError",
     "evalue": "'float' object cannot be interpreted as an integer",
     "output_type": "error",
     "traceback": [
      "\u001b[0;31m---------------------------------------------------------------------------\u001b[0m",
      "\u001b[0;31mTypeError\u001b[0m                                 Traceback (most recent call last)",
      "\u001b[0;32m<ipython-input-1-62590fdb7c0c>\u001b[0m in \u001b[0;36m<module>\u001b[0;34m\u001b[0m\n\u001b[1;32m     45\u001b[0m     \u001b[0;31m##child creation using crossover\u001b[0m\u001b[0;34m\u001b[0m\u001b[0;34m\u001b[0m\u001b[0;34m\u001b[0m\u001b[0m\n\u001b[1;32m     46\u001b[0m     \u001b[0mc\u001b[0m\u001b[0;34m=\u001b[0m\u001b[0mnp\u001b[0m\u001b[0;34m.\u001b[0m\u001b[0mempty\u001b[0m\u001b[0;34m(\u001b[0m\u001b[0;34m(\u001b[0m\u001b[0mpop\u001b[0m\u001b[0;34m.\u001b[0m\u001b[0mshape\u001b[0m\u001b[0;34m)\u001b[0m\u001b[0;34m,\u001b[0m \u001b[0mdtype\u001b[0m\u001b[0;34m=\u001b[0m\u001b[0;34m'int'\u001b[0m\u001b[0;34m)\u001b[0m\u001b[0;34m\u001b[0m\u001b[0;34m\u001b[0m\u001b[0m\n\u001b[0;32m---> 47\u001b[0;31m     \u001b[0;32mfor\u001b[0m \u001b[0mi\u001b[0m \u001b[0;32min\u001b[0m \u001b[0mrange\u001b[0m\u001b[0;34m(\u001b[0m\u001b[0;36m0\u001b[0m\u001b[0;34m,\u001b[0m\u001b[0;34m(\u001b[0m\u001b[0mlen\u001b[0m\u001b[0;34m(\u001b[0m\u001b[0mpop\u001b[0m\u001b[0;34m)\u001b[0m\u001b[0;34m/\u001b[0m\u001b[0;36m2\u001b[0m\u001b[0;34m)\u001b[0m\u001b[0;34m*\u001b[0m\u001b[0;36m2\u001b[0m\u001b[0;34m,\u001b[0m\u001b[0;36m2\u001b[0m\u001b[0;34m)\u001b[0m\u001b[0;34m:\u001b[0m\u001b[0;34m\u001b[0m\u001b[0;34m\u001b[0m\u001b[0m\n\u001b[0m\u001b[1;32m     48\u001b[0m         \u001b[0mc\u001b[0m\u001b[0;34m[\u001b[0m\u001b[0mi\u001b[0m\u001b[0;34m]\u001b[0m\u001b[0;34m,\u001b[0m\u001b[0mc\u001b[0m\u001b[0;34m[\u001b[0m\u001b[0mi\u001b[0m\u001b[0;34m+\u001b[0m\u001b[0;36m1\u001b[0m\u001b[0;34m]\u001b[0m\u001b[0;34m=\u001b[0m\u001b[0mcrossover\u001b[0m\u001b[0;34m(\u001b[0m\u001b[0mpop\u001b[0m\u001b[0;34m[\u001b[0m\u001b[0mi\u001b[0m\u001b[0;34m]\u001b[0m\u001b[0;34m,\u001b[0m\u001b[0mpop\u001b[0m\u001b[0;34m[\u001b[0m\u001b[0mi\u001b[0m\u001b[0;34m+\u001b[0m\u001b[0;36m1\u001b[0m\u001b[0;34m]\u001b[0m\u001b[0;34m)\u001b[0m\u001b[0;34m\u001b[0m\u001b[0;34m\u001b[0m\u001b[0m\n\u001b[1;32m     49\u001b[0m \u001b[0;34m\u001b[0m\u001b[0m\n",
      "\u001b[0;31mTypeError\u001b[0m: 'float' object cannot be interpreted as an integer"
     ]
    }
   ],
   "source": [
    "\n",
    "import numpy as np\n",
    "\n",
    "\n",
    "##1. Initial parent population intialization\n",
    "pop=np.random.randint(0,2,(4,5))\n",
    "print(\"Parent population\",pop)\n",
    "\n",
    "\n",
    "##\n",
    "for lp in range(1,6):\n",
    "    ##converting binary to decimal\n",
    "    def bintodec(b):\n",
    "        dec,p=0,0\n",
    "        for i in range(len(b),0,-1): \n",
    "            dec+=b[i-1]*pow(2,p)\n",
    "            p+=1\n",
    "        return dec\n",
    "\n",
    "\n",
    "    ##finding fitness(decimal,sum of whole population)\n",
    "    def fitness(p):\n",
    "        f=np.empty((len(p)), dtype='int')   \n",
    "        for i in range(len(p)):\n",
    "            f[i]=bintodec(p[i])\n",
    "        return (f,sum(f))\n",
    "\n",
    "\n",
    "    ##Finding parent population fitness\n",
    "    f,fit=fitness(pop)\n",
    "    #print(\"Parent population genetypes\",pop)\n",
    "    print(\"Parent population phonotypes\",f)\n",
    "    print(\"Parent population fitness\",fit)\n",
    "\n",
    "\n",
    "    ##Generating new 2childs from 2parents\n",
    "    def crossover(p1,p2):\n",
    "        d=np.random.randint(1,len(p1))\n",
    "        print(\"parent \",p1,\"parent \",p2,\"divided at\",d)\n",
    "        c1=np.concatenate([p1[0:d],p2[d:]])\n",
    "        c2=np.concatenate([p2[0:d],p1[d:]])\n",
    "        return c1,c2\n",
    "\n",
    "\n",
    "    ##child creation using crossover\n",
    "    c=np.empty((pop.shape), dtype='int')\n",
    "    for i in range(0,(len(pop)/2)*2,2):\n",
    "        c[i],c[i+1]=crossover(pop[i],pop[i+1])\n",
    "\n",
    "    print(\"child population genetypes after crossover\",c)\n",
    "\n",
    "\n",
    "    ##Mutation\n",
    "    def mutation(p):\n",
    "        for i in range(len(p)):\n",
    "            r=np.random.randint(0,len(p[i]))\n",
    "            #print(i,\"genotype\",r,\"index inverted\")\n",
    "            p[i][r]=1-p[i][r]\n",
    "        return p\n",
    "\n",
    "    c=mutation(c)\n",
    "    print(\"child population genetypes after mutation\",c)\n",
    "\n",
    "\n",
    "    '''finding child fitness\n",
    "    fc,fitc=fitness(c)\n",
    "    #print(\"child population phonotype\",fc)\n",
    "    print(\"child population fitness\",fitc)'''\n",
    "\n",
    "\n",
    "    ##finding probability of given phonotypes and sum\n",
    "    def prob(arr,s):\n",
    "        pb=np.empty((len(arr)), dtype='float') \n",
    "        for i in range(len(arr)):\n",
    "            pb[i]=round(float(arr[i])/s,2)\n",
    "        return pb\n",
    "\n",
    "\n",
    "    ##Intermediate population\n",
    "    intpop=np.concatenate([pop,c])\n",
    "    print(\"Intermediate population genetypes\",intpop)\n",
    "\n",
    "    ipd,ipfit=fitness(intpop)\n",
    "    #print(\"intermediate population Phonotypes\",ipd)\n",
    "    print(\"intermediate population fitness\",ipfit)\n",
    "\n",
    "\n",
    "    ipprob=prob(ipd,ipfit)\n",
    "    wt=np.random.randint(0,100,(ipprob.shape))\n",
    "    nipprob=wt*ipprob\n",
    "    print(\"New intermediate population probability after weight calculation\",nipprob)\n",
    "\n",
    "\n",
    "    ##sorting population according to probabilities\n",
    "    def sort(pop,prob):\n",
    "        for i in range(len(prob)):\n",
    "            for j in range(len(prob)):\n",
    "                if(prob[i]<prob[j]):               \n",
    "                    temp=prob[j]\n",
    "                    prob[j]=prob[i]\n",
    "                    prob[i]=temp\n",
    "\n",
    "                    t=pop[j]+0\n",
    "                    pop[j]=pop[i]\n",
    "                    pop[i]=t\n",
    "        newp=pop[4:]            \n",
    "        return pop,prob,newp\n",
    "\n",
    "\n",
    "    ##sorted new intermediate population\n",
    "    sintpop,sipprob,pop=sort(intpop,nipprob)\n",
    "    #print(\"sorted intermediate population genetypes\",sintpop)\n",
    "    #print(\"sorted intermediate population probability\",sipprob)\n",
    "    print(\"new\",lp,\" population genetypes\",pop)\n",
    "\n",
    "    nftd,nft=fitness(pop)\n",
    "    #print(\"new population fitness phonotypes\",nftd)\n",
    "    print(\"new\",lp,\" population fitness\",nft)\n",
    "    print(\"\\n\\n\")"
   ]
  },
  {
   "cell_type": "code",
   "execution_count": 1,
   "metadata": {},
   "outputs": [],
   "source": [
    "import numpy as np"
   ]
  },
  {
   "cell_type": "code",
   "execution_count": 352,
   "metadata": {},
   "outputs": [
    {
     "name": "stdout",
     "output_type": "stream",
     "text": [
      "('Parent population ', array([[0, 1, 1, 0, 1],\n",
      "       [0, 1, 0, 1, 0],\n",
      "       [1, 0, 1, 1, 1],\n",
      "       [1, 0, 0, 1, 1]]))\n"
     ]
    }
   ],
   "source": [
    "pop=np.random.randint(0,2,(4,5))\n",
    "print(\"Parent population \",pop)"
   ]
  },
  {
   "cell_type": "code",
   "execution_count": 353,
   "metadata": {},
   "outputs": [],
   "source": [
    "def bintodec(b):\n",
    "    dec,p=0,0\n",
    "    for i in range(len(b),0,-1): \n",
    "        dec+=b[i-1]*pow(2,p)\n",
    "        p+=1\n",
    "    return dec"
   ]
  },
  {
   "cell_type": "code",
   "execution_count": 354,
   "metadata": {},
   "outputs": [
    {
     "name": "stdout",
     "output_type": "stream",
     "text": [
      "('Parent population ', array([[0, 1, 1, 0, 1],\n",
      "       [0, 1, 0, 1, 0],\n",
      "       [1, 0, 1, 1, 1],\n",
      "       [1, 0, 0, 1, 1]]))\n",
      "('Parent population fitness', 65)\n"
     ]
    }
   ],
   "source": [
    "def fitness(p):\n",
    "    f=np.empty((len(p)), dtype='int')   \n",
    "    for i in range(len(p)):\n",
    "        f[i]=bintodec(p[i])\n",
    "    return (f,sum(f))\n",
    "    \n",
    "\n",
    "f,fit=fitness(pop)\n",
    "print(\"Parent population \",pop)\n",
    "#print(\"Parent population decimal\",f)\n",
    "print(\"Parent population fitness\",fit)"
   ]
  },
  {
   "cell_type": "code",
   "execution_count": 355,
   "metadata": {},
   "outputs": [
    {
     "name": "stdout",
     "output_type": "stream",
     "text": [
      "('parent ', array([0, 1, 1, 0, 1]), 'parent ', array([0, 1, 0, 1, 0]), 'divided at', 2)\n",
      "('parent ', array([1, 0, 1, 1, 1]), 'parent ', array([1, 0, 0, 1, 1]), 'divided at', 3)\n",
      "('child population after crossover', array([[0, 1, 0, 1, 0],\n",
      "       [0, 1, 1, 0, 1],\n",
      "       [1, 0, 1, 1, 1],\n",
      "       [1, 0, 0, 1, 1]]))\n"
     ]
    }
   ],
   "source": [
    "def crossover(p1,p2):\n",
    "    d=np.random.randint(1,len(p1))\n",
    "    print(\"parent \",p1,\"parent \",p2,\"divided at\",d)\n",
    "    c1=np.concatenate([p1[0:d],p2[d:]])\n",
    "    c2=np.concatenate([p2[0:d],p1[d:]])\n",
    "    return c1,c2\n",
    "\n",
    "c=np.empty((pop.shape), dtype='int')\n",
    "for i in range(0,(len(pop)/2)*2,2):\n",
    "    c[i],c[i+1]=crossover(pop[i],pop[i+1])\n",
    "\n",
    "print(\"child population after crossover\",c)\n"
   ]
  },
  {
   "cell_type": "code",
   "execution_count": 356,
   "metadata": {},
   "outputs": [
    {
     "name": "stdout",
     "output_type": "stream",
     "text": [
      "('child population after mutation', array([[0, 1, 1, 1, 0],\n",
      "       [1, 1, 1, 0, 1],\n",
      "       [1, 0, 0, 1, 1],\n",
      "       [1, 0, 0, 1, 0]]))\n"
     ]
    }
   ],
   "source": [
    "\n",
    "def mutation(p):\n",
    "    for i in range(len(p)):\n",
    "        r=np.random.randint(0,len(p[i]))\n",
    "        #print(i,\"genotype\",r,\"index inverted\")\n",
    "        p[i][r]=1-p[i][r]\n",
    "    return p\n",
    "\n",
    "c=mutation(c)\n",
    "print(\"child population after mutation\",c)"
   ]
  },
  {
   "cell_type": "code",
   "execution_count": 357,
   "metadata": {},
   "outputs": [
    {
     "name": "stdout",
     "output_type": "stream",
     "text": [
      "('child population fitness', 80)\n"
     ]
    }
   ],
   "source": [
    "fc,fitc=fitness(c)\n",
    "#print(\"child population decimal\",fc)\n",
    "print(\"child population fitness\",fitc)"
   ]
  },
  {
   "cell_type": "code",
   "execution_count": 358,
   "metadata": {},
   "outputs": [],
   "source": [
    "def prob(arr,s):\n",
    "    pb=np.empty((len(arr)), dtype='float') \n",
    "    for i in range(len(arr)):\n",
    "        pb[i]=round(float(arr[i])/s,2)\n",
    "    return pb"
   ]
  },
  {
   "cell_type": "code",
   "execution_count": 359,
   "metadata": {},
   "outputs": [
    {
     "name": "stdout",
     "output_type": "stream",
     "text": [
      "('intermediate population', array([[0, 1, 1, 0, 1],\n",
      "       [0, 1, 0, 1, 0],\n",
      "       [1, 0, 1, 1, 1],\n",
      "       [1, 0, 0, 1, 1],\n",
      "       [0, 1, 1, 1, 0],\n",
      "       [1, 1, 1, 0, 1],\n",
      "       [1, 0, 0, 1, 1],\n",
      "       [1, 0, 0, 1, 0]]))\n",
      "('intermediate population fitness', 145)\n"
     ]
    }
   ],
   "source": [
    "intpop=np.concatenate([pop,c])\n",
    "print(\"intermediate population\",intpop)\n",
    "\n",
    "ipd,ipfit=fitness(intpop)\n",
    "#print(\"intermediate population decimal\",ipd)\n",
    "print(\"intermediate population fitness\",ipfit)"
   ]
  },
  {
   "cell_type": "code",
   "execution_count": 360,
   "metadata": {},
   "outputs": [
    {
     "name": "stdout",
     "output_type": "stream",
     "text": [
      "('New intermediate population probability after weight calculation', array([ 0.27,  4.55,  7.04, 10.66,  0.5 , 16.  , 12.09, 11.64]))\n"
     ]
    }
   ],
   "source": [
    "ipprob=prob(ipd,ipfit)\n",
    "wt=np.random.randint(0,100,(ipprob.shape))\n",
    "nipprob=wt*ipprob\n",
    "print(\"New intermediate population probability after weight calculation\",nipprob)"
   ]
  },
  {
   "cell_type": "code",
   "execution_count": 361,
   "metadata": {},
   "outputs": [
    {
     "name": "stdout",
     "output_type": "stream",
     "text": [
      "('new population', array([[1, 0, 0, 1, 1],\n",
      "       [1, 0, 0, 1, 0],\n",
      "       [1, 0, 0, 1, 1],\n",
      "       [1, 1, 1, 0, 1]]))\n",
      "('new population fitness', 85)\n"
     ]
    }
   ],
   "source": [
    "def sort(pop,prob):\n",
    "    for i in range(len(prob)):\n",
    "        for j in range(len(prob)):\n",
    "            if(prob[i]<prob[j]):               \n",
    "                temp=prob[j]\n",
    "                prob[j]=prob[i]\n",
    "                prob[i]=temp\n",
    "                \n",
    "                t=pop[j]+0\n",
    "                pop[j]=pop[i]\n",
    "                pop[i]=t\n",
    "    newp=pop[4:]            \n",
    "    return pop,prob,newp\n",
    "    \n",
    "sintpop,sipprob,newp=sort(intpop,nipprob)\n",
    "#print(\"sorted intermediate population genetypes\",sintpop)\n",
    "#print(\"sorted intermediate population probability\",sipprob)\n",
    "print(\"new population\",newp)\n",
    "\n",
    "nftd,nft=fitness(newp)\n",
    "#print(\"new population fitness phonotypes\",nftd)\n",
    "print(\"new population fitness\",nft)"
   ]
  },
  {
   "cell_type": "code",
   "execution_count": 388,
   "metadata": {},
   "outputs": [
    {
     "name": "stdout",
     "output_type": "stream",
     "text": [
      "('\\\\\\ni is', 0)\n",
      "('\\\\\\ni is', 1)\n",
      "('\\\\\\ni is', 2)\n",
      "('\\\\\\ni is', 3)\n",
      "('\\\\\\ni is', 0)\n",
      "('\\\\\\ni is', 1)\n",
      "('\\\\\\ni is', 2)\n",
      "('\\\\\\ni is', 3)\n",
      "('\\\\\\ni is', 0)\n",
      "('\\\\\\ni is', 1)\n",
      "('\\\\\\ni is', 2)\n",
      "('\\\\\\ni is', 3)\n",
      "('\\\\\\ni is', 0)\n",
      "('\\\\\\ni is', 1)\n",
      "('\\\\\\ni is', 2)\n",
      "('\\\\\\ni is', 3)\n",
      "('\\\\\\ni is', 0)\n",
      "('\\\\\\ni is', 1)\n",
      "('\\\\\\ni is', 2)\n",
      "('\\\\\\ni is', 3)\n"
     ]
    }
   ],
   "source": [
    "for i in range(5):\n",
    "    for i in range(4):\n",
    "        print(\"\\\\\\ni is\",i)\n"
   ]
  },
  {
   "cell_type": "code",
   "execution_count": 366,
   "metadata": {},
   "outputs": [
    {
     "name": "stdout",
     "output_type": "stream",
     "text": [
      "\n",
      "hi\n",
      "how\n"
     ]
    }
   ],
   "source": [
    "print(\"\\nhi\\nhow\")"
   ]
  },
  {
   "cell_type": "code",
   "execution_count": null,
   "metadata": {},
   "outputs": [],
   "source": []
  }
 ],
 "metadata": {
  "kernelspec": {
   "display_name": "Python 3",
   "language": "python",
   "name": "python3"
  },
  "language_info": {
   "codemirror_mode": {
    "name": "ipython",
    "version": 3
   },
   "file_extension": ".py",
   "mimetype": "text/x-python",
   "name": "python",
   "nbconvert_exporter": "python",
   "pygments_lexer": "ipython3",
   "version": "3.7.3rc1"
  }
 },
 "nbformat": 4,
 "nbformat_minor": 2
}
