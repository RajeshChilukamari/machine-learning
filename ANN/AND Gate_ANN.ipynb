{
 "cells": [
  {
   "cell_type": "code",
   "execution_count": null,
   "metadata": {},
   "outputs": [],
   "source": [
    "Algo\n",
    "\n",
    "1. Initialise \n",
    "        Feature Inputs (x) 4*3  //x0 = 1\n",
    "        Target Outputs (t) 4*1\n",
    "        Weights (w) 3*1    (==no of features/attributes/columns)\n",
    "        Learning rate (n)  0-1\n",
    "\n",
    "        \n",
    "2. Calculate Received Output \n",
    "        \"o = x*w\"  4*1\n",
    "\n",
    "    \n",
    "3. Update Weights \n",
    "        \"dw = (n * (xt * (t-o) ))\"\n",
    "        \"w = w + dw\"\n",
    "\n",
    "        \n",
    "4. repeat from step 2 until t & o equal\n"
   ]
  },
  {
   "cell_type": "code",
   "execution_count": 7,
   "metadata": {},
   "outputs": [],
   "source": [
    "import numpy as np"
   ]
  },
  {
   "cell_type": "code",
   "execution_count": 8,
   "metadata": {},
   "outputs": [
    {
     "name": "stdout",
     "output_type": "stream",
     "text": [
      "AND gate Features(input) \n",
      "[[1 0 0]\n",
      " [1 0 1]\n",
      " [1 1 0]\n",
      " [1 1 1]]\n",
      "\n",
      "AND gate Target(output) \n",
      "[[0]\n",
      " [0]\n",
      " [0]\n",
      " [1]]\n",
      "\n",
      "Initial weights \n",
      "[[0. ]\n",
      " [0.2]\n",
      " [0.3]]\n",
      "\n",
      "Learning rate 0.6\n"
     ]
    }
   ],
   "source": [
    "##1. Initialisation\n",
    "\n",
    "\n",
    "#AND gate feature inputs\n",
    "x=np.array([1,0,0,1,0,1,1,1,0,1,1,1])  \n",
    "x=x.reshape((4,3))\n",
    "print(\"AND gate Features(input) \\n{}\".format(x))\n",
    "\n",
    "\n",
    "#AND gate Target outputs\n",
    "t=np.array([0,0,0,1])  \n",
    "t=t.reshape((4,1))\n",
    "print(\"\\nAND gate Target(output) \\n{}\".format(t))\n",
    "\n",
    "\n",
    "#Initial weights\n",
    "w=np.array([0.0,0.2,0.3])  \n",
    "w=w.reshape((3,1))\n",
    "print(\"\\nInitial weights \\n{}\".format(w))\n",
    "\n",
    "\n",
    "#learning ratio\n",
    "n=0.6 \n",
    "print(\"\\nLearning rate {}\".format(n))\n"
   ]
  },
  {
   "cell_type": "code",
   "execution_count": 9,
   "metadata": {},
   "outputs": [],
   "source": [
    "##2. Calculate Received output o = w*x\n",
    "def recop():\n",
    "    \n",
    "    o=np.dot(x,w)  #4*1\n",
    "    #print(o)\n",
    "    for i in range(4):\n",
    "        if o[i]>0:\n",
    "            o[i]=1\n",
    "        else:\n",
    "            o[i]=0\n",
    "            \n",
    "    return o\n"
   ]
  },
  {
   "cell_type": "code",
   "execution_count": 10,
   "metadata": {},
   "outputs": [
    {
     "name": "stdout",
     "output_type": "stream",
     "text": [
      "\n",
      "Updated weights \n",
      "[[-1.2]\n",
      " [-0.4]\n",
      " [-0.3]]\n",
      "\n",
      "Updated weights \n",
      "[[-0.6]\n",
      " [ 0.2]\n",
      " [ 0.3]]\n",
      "\n",
      "Updated weights \n",
      "[[0. ]\n",
      " [0.8]\n",
      " [0.9]]\n",
      "\n",
      "Updated weights \n",
      "[[-1.2]\n",
      " [ 0.2]\n",
      " [ 0.3]]\n",
      "\n",
      "Updated weights \n",
      "[[-0.6]\n",
      " [ 0.8]\n",
      " [ 0.9]]\n",
      "\n",
      "Updated weights \n",
      "[[-1.8]\n",
      " [ 0.2]\n",
      " [ 0.3]]\n",
      "\n",
      "Updated weights \n",
      "[[-1.2]\n",
      " [ 0.8]\n",
      " [ 0.9]]\n",
      "\n",
      "Updated weights \n",
      "[[-1.2]\n",
      " [ 0.8]\n",
      " [ 0.9]]\n"
     ]
    },
    {
     "data": {
      "image/png": "[encoded data removed]",
      "text/plain": [
       "<Figure size 432x288 with 1 Axes>"
      ]
     },
     "metadata": {
      "needs_background": "light"
     },
     "output_type": "display_data"
    }
   ],
   "source": [
    "##3. Update weights until t=o\n",
    "o = np.zeros((4,1), dtype='int')\n",
    "import matplotlib.pyplot as plt\n",
    "\n",
    "while not np.array_equal(t,o):\n",
    "    o=recop()\n",
    "    #print(\"\\nReceived Output \\n{}\".format(o))\n",
    "    \n",
    "    xt=x.transpose()   #3*4\n",
    "    \n",
    "\n",
    "    #dw=n*(xt*(t-o))   formula\n",
    "    dw=n*np.dot(xt,(t-o))    #3*1\n",
    "\n",
    "    w=w+dw   #3*1\n",
    "    print(\"\\nUpdated weights \\n{}\".format(w))\n",
    "    \n",
    "    plt.scatter(t, o, cmap='rainbow')\n",
    "plt.show()\n",
    "    \n"
   ]
  },
  {
   "cell_type": "code",
   "execution_count": 11,
   "metadata": {},
   "outputs": [
    {
     "name": "stdout",
     "output_type": "stream",
     "text": [
      "Final weights \n",
      "[[-1.2]\n",
      " [ 0.8]\n",
      " [ 0.9]]\n"
     ]
    }
   ],
   "source": [
    "##4. Final updates\n",
    "print(\"Final weights \\n{}\".format(w))"
   ]
  },
  {
   "cell_type": "code",
   "execution_count": null,
   "metadata": {},
   "outputs": [],
   "source": []
  },
  {
   "cell_type": "code",
   "execution_count": null,
   "metadata": {},
   "outputs": [],
   "source": []
  }
 ],
 "metadata": {
  "kernelspec": {
   "display_name": "Python 3",
   "language": "python",
   "name": "python3"
  },
  "language_info": {
   "codemirror_mode": {
    "name": "ipython",
    "version": 3
   },
   "file_extension": ".py",
   "mimetype": "text/x-python",
   "name": "python",
   "nbconvert_exporter": "python",
   "pygments_lexer": "ipython3",
   "version": "3.7.3rc1"
  }
 },
 "nbformat": 4,
 "nbformat_minor": 2
}
