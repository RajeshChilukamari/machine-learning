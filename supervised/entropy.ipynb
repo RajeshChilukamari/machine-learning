{
 "cells": [
  {
   "cell_type": "code",
   "execution_count": 106,
   "metadata": {},
   "outputs": [],
   "source": [
    "import numpy as np\n",
    "import math"
   ]
  },
  {
   "cell_type": "code",
   "execution_count": 171,
   "metadata": {},
   "outputs": [
    {
     "data": {
      "text/plain": [
       "array([], shape=(0, 4), dtype=int64)"
      ]
     },
     "execution_count": 171,
     "metadata": {},
     "output_type": "execute_result"
    }
   ],
   "source": [
    "inp=np.array([1,2,2,1,1,2,3,2,1,2,2,3,2,2,2,1,2,3,2,2,1,3,2,1,1,2,3,1,2,3,1,2,1,2,2,2,1,1,3,2,2,1,2,2,1,1,2,3])\n",
    "inp=inp.reshape(12,4)\n"
   ]
  },
  {
   "cell_type": "code",
   "execution_count": 50,
   "metadata": {},
   "outputs": [
    {
     "data": {
      "text/plain": [
       "(12, 1)"
      ]
     },
     "execution_count": 50,
     "metadata": {},
     "output_type": "execute_result"
    }
   ],
   "source": [
    "oup=np.array([1,1,1,1,2,1,2,1,1,1,2,1])\n",
    "oup=oup.reshape(12,1)\n",
    "oup.shape"
   ]
  },
  {
   "cell_type": "code",
   "execution_count": 120,
   "metadata": {},
   "outputs": [],
   "source": [
    "t=np.where(oup==1)[0]\n",
    "t"
   ]
  },
  {
   "cell_type": "code",
   "execution_count": 100,
   "metadata": {},
   "outputs": [],
   "source": [
    "\n",
    "y=np.empty((len(s)), dtype='int')\n",
    "\n"
   ]
  },
  {
   "cell_type": "code",
   "execution_count": 103,
   "metadata": {},
   "outputs": [
    {
     "name": "stdout",
     "output_type": "stream",
     "text": [
      "[ 0  1  2  3  5  7  8  9 11]\n",
      "[ 4  6 10]\n",
      "[             0 94677574805008]\n",
      "(2,)\n"
     ]
    }
   ],
   "source": [
    "z=np.empty((len(s)),dtype='int')\n",
    "for i in range(len(s)):\n",
    "    #print(i)\n",
    "    print(np.where(oup==s[i])[0])\n",
    "    #y[i]=z\n",
    "    #y=np.concatenate([y,z])\n",
    "    #y[i]=np.where(oup==s[i])[0]\n",
    "\n",
    "print(z)\n",
    "print(z.shape)"
   ]
  },
  {
   "cell_type": "code",
   "execution_count": 146,
   "metadata": {},
   "outputs": [
    {
     "name": "stdout",
     "output_type": "stream",
     "text": [
      "[9, 3]\n"
     ]
    }
   ],
   "source": [
    "\n",
    "    "
   ]
  },
  {
   "cell_type": "code",
   "execution_count": 180,
   "metadata": {},
   "outputs": [],
   "source": [
    "\n",
    "def entropy(p):\n",
    "    print(p)\n",
    "    e=0\n",
    "    s=sum(p)\n",
    "    for i in range(len(p)):\n",
    "        e+=-(round(float(p[i])/s*math.log(float(p[i])/s,2),3))\n",
    "        print(e)\n",
    "    return e\n",
    "\n"
   ]
  },
  {
   "cell_type": "code",
   "execution_count": 181,
   "metadata": {},
   "outputs": [
    {
     "name": "stdout",
     "output_type": "stream",
     "text": [
      "[1 1 1 2 2 1 1 2 1 1 2 1]\n",
      "[8, 4]\n",
      "[8, 4]\n",
      "0.39\n",
      "0.918\n"
     ]
    },
    {
     "data": {
      "text/plain": [
       "0.918"
      ]
     },
     "execution_count": 181,
     "metadata": {},
     "output_type": "execute_result"
    }
   ],
   "source": [
    "def func(op):\n",
    "    print(op)\n",
    "    s=np.unique(op)\n",
    "    l=[]\n",
    "    for i in range(len(s)):\n",
    "        l.append(len(np.where(op==s[i])[0]))\n",
    "    print(l)\n",
    "    return entropy(l)\n",
    "\n",
    "#np.unique(inp[0])\n",
    "\n"
   ]
  },
  {
   "cell_type": "code",
   "execution_count": 168,
   "metadata": {},
   "outputs": [
    {
     "name": "stdout",
     "output_type": "stream",
     "text": [
      "[1 2 2 1]\n",
      "[2, 2]\n",
      "1.0\n"
     ]
    },
    {
     "data": {
      "text/plain": [
       "1.0"
      ]
     },
     "execution_count": 168,
     "metadata": {},
     "output_type": "execute_result"
    }
   ],
   "source": [
    "f=func(oup)\n",
    "f"
   ]
  },
  {
   "cell_type": "code",
   "execution_count": 176,
   "metadata": {},
   "outputs": [
    {
     "data": {
      "text/plain": [
       "array([1, 1, 1, 2, 2, 1, 1, 2, 1, 1, 2, 1])"
      ]
     },
     "execution_count": 176,
     "metadata": {},
     "output_type": "execute_result"
    }
   ],
   "source": [
    "inp[:,0]"
   ]
  },
  {
   "cell_type": "code",
   "execution_count": 182,
   "metadata": {},
   "outputs": [
    {
     "name": "stdout",
     "output_type": "stream",
     "text": [
      "(array([1, 1, 1, 2, 2, 1, 1, 2, 1, 1, 2, 1]), array([[1],\n",
      "       [1],\n",
      "       [1],\n",
      "       [1],\n",
      "       [2],\n",
      "       [1],\n",
      "       [2],\n",
      "       [1],\n",
      "       [1],\n",
      "       [1],\n",
      "       [2],\n",
      "       [1]]))\n"
     ]
    }
   ],
   "source": [
    "def fin(x,y):\n",
    "    for i in range(len(x)):\n",
    "        if x[i]=y[i]:\n",
    "            \n",
    "    \n",
    "\n",
    "fin(inp[:,0],oup)"
   ]
  },
  {
   "cell_type": "code",
   "execution_count": null,
   "metadata": {},
   "outputs": [],
   "source": []
  }
 ],
 "metadata": {
  "kernelspec": {
   "display_name": "Python 3",
   "language": "python",
   "name": "python3"
  },
  "language_info": {
   "codemirror_mode": {
    "name": "ipython",
    "version": 3
   },
   "file_extension": ".py",
   "mimetype": "text/x-python",
   "name": "python",
   "nbconvert_exporter": "python",
   "pygments_lexer": "ipython3",
   "version": "3.6.6"
  }
 },
 "nbformat": 4,
 "nbformat_minor": 2
}
