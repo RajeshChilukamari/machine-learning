{
 "cells": [
  {
   "cell_type": "code",
   "execution_count": null,
   "metadata": {},
   "outputs": [],
   "source": [
    "#1. Importing dataset -- initialising input(features) and output(lables) data\n",
    "#2. Spliting training and testing set for both input and output data\n",
    "#3. KNN classifier --- ##3. KNN custom classifier\n",
    "#4. Fitting\n",
    "#5. Predicting\n",
    "#6. Accuracy calculating"
   ]
  },
  {
   "cell_type": "code",
   "execution_count": 77,
   "metadata": {},
   "outputs": [],
   "source": [
    "##3. simple custom classifier\n",
    "import random\n",
    "class CustomClassifier():\n",
    "    def fit(self, data_train, target_train):\n",
    "        self.data_train=data_train\n",
    "        self.target_train=target_train\n",
    "    \n",
    "    def predict(self, data_test):\n",
    "        predictions = []\n",
    "        for row in data_test:\n",
    "            predictions.append(random.choice(self.target_train))\n",
    "        return predictions"
   ]
  },
  {
   "cell_type": "code",
   "execution_count": 78,
   "metadata": {},
   "outputs": [
    {
     "name": "stdout",
     "output_type": "stream",
     "text": [
      "5.479963503528103\n",
      "[[5.5 3.5 1.3 0.2]\n",
      " [7.4 2.8 6.1 1.9]]\n"
     ]
    }
   ],
   "source": [
    "## Distance calculating using Eucliedean\n",
    "from scipy.spatial import distance\n",
    "\n",
    "def euc(a,b):\n",
    "    return distance.euclidean(a,b)  \n",
    "\n",
    "print(euc(data_train[0],data_train[1]))\n",
    "print(data_train[0:2])"
   ]
  },
  {
   "cell_type": "code",
   "execution_count": 79,
   "metadata": {},
   "outputs": [],
   "source": [
    "##3. KNN custom classifier\n",
    "\n",
    "class KNNCustomClassifier():\n",
    "    \n",
    "    def fit(self, data_train, target_train):\n",
    "        self.data_train=data_train\n",
    "        self.target_train=target_train\n",
    "        \n",
    "    def predict(self, data_test):\n",
    "        predictions = []\n",
    "        for row in data_test:\n",
    "            predictions.append(self.closest(row))          \n",
    "        return predictions\n",
    "    \n",
    "    def closest(self, row):\n",
    "        best_dist = euc(row, self.data_train[0])\n",
    "        best_index = 0\n",
    "        #print(best_dist, best_index)\n",
    "        \n",
    "        for i in range(1,len(self.data_train)):\n",
    "            dist = euc(row, self.data_train[i])     \n",
    "            if dist < best_dist:\n",
    "                best_dist = dist\n",
    "                best_index = i\n",
    "        return self.target_train[best_index]"
   ]
  },
  {
   "cell_type": "code",
   "execution_count": 80,
   "metadata": {},
   "outputs": [],
   "source": [
    "#1. Importing dataset -- initialising input(features) and output(lables) data\n",
    "from sklearn import datasets\n",
    "iris=datasets.load_iris()"
   ]
  },
  {
   "cell_type": "code",
   "execution_count": 81,
   "metadata": {},
   "outputs": [],
   "source": [
    "#2. Spliting training and testing set for both input and output data\n",
    "from sklearn.model_selection import train_test_split\n",
    "data_train, data_test, target_train, target_test = train_test_split(iris.data, iris.target, test_size=.5)"
   ]
  },
  {
   "cell_type": "code",
   "execution_count": 82,
   "metadata": {},
   "outputs": [],
   "source": [
    "#3. KNN classifier --- \n",
    "from sklearn.neighbors import KNeighborsClassifier\n",
    "#classifier = KNeighborsClassifier()\n",
    "\n",
    "##3. KNN custom classifier\n",
    "classifier = KNNCustomClassifier()"
   ]
  },
  {
   "cell_type": "code",
   "execution_count": 83,
   "metadata": {},
   "outputs": [],
   "source": [
    "#4. Fitting\n",
    "classifier.fit(data_train,target_train)"
   ]
  },
  {
   "cell_type": "code",
   "execution_count": 84,
   "metadata": {},
   "outputs": [],
   "source": [
    "#5. Predicting\n",
    "p=classifier.predict(data_test)"
   ]
  },
  {
   "cell_type": "code",
   "execution_count": 85,
   "metadata": {},
   "outputs": [
    {
     "data": {
      "text/plain": [
       "0.96"
      ]
     },
     "execution_count": 85,
     "metadata": {},
     "output_type": "execute_result"
    }
   ],
   "source": [
    "#6. Accuracy calculating\n",
    "from sklearn.metrics import accuracy_score\n",
    "accuracy_score(p,target_test)"
   ]
  },
  {
   "cell_type": "code",
   "execution_count": null,
   "metadata": {},
   "outputs": [],
   "source": []
  },
  {
   "cell_type": "code",
   "execution_count": null,
   "metadata": {},
   "outputs": [],
   "source": []
  },
  {
   "cell_type": "code",
   "execution_count": null,
   "metadata": {},
   "outputs": [],
   "source": []
  }
 ],
 "metadata": {
  "kernelspec": {
   "display_name": "Python 3",
   "language": "python",
   "name": "python3"
  },
  "language_info": {
   "codemirror_mode": {
    "name": "ipython",
    "version": 3
   },
   "file_extension": ".py",
   "mimetype": "text/x-python",
   "name": "python",
   "nbconvert_exporter": "python",
   "pygments_lexer": "ipython3",
   "version": "3.7.3rc1"
  }
 },
 "nbformat": 4,
 "nbformat_minor": 2
}
